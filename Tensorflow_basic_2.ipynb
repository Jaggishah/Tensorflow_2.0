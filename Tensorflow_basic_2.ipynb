{
  "nbformat": 4,
  "nbformat_minor": 0,
  "metadata": {
    "colab": {
      "provenance": [],
      "authorship_tag": "ABX9TyOe3nGpsojtZPpJnNGtep4N",
      "include_colab_link": true
    },
    "kernelspec": {
      "name": "python3",
      "display_name": "Python 3"
    },
    "language_info": {
      "name": "python"
    }
  },
  "cells": [
    {
      "cell_type": "markdown",
      "metadata": {
        "id": "view-in-github",
        "colab_type": "text"
      },
      "source": [
        "<a href=\"https://colab.research.google.com/github/Jaggishah/Tensorflow_2.0/blob/main/Tensorflow_basic_2.ipynb\" target=\"_parent\"><img src=\"https://colab.research.google.com/assets/colab-badge.svg\" alt=\"Open In Colab\"/></a>"
      ]
    },
    {
      "cell_type": "code",
      "execution_count": 1,
      "metadata": {
        "colab": {
          "base_uri": "https://localhost:8080/"
        },
        "id": "ISTnlPZGLfdS",
        "outputId": "2c7e937e-c352-4540-88be-ab2199e3d9e4"
      },
      "outputs": [
        {
          "output_type": "stream",
          "name": "stdout",
          "text": [
            "TensorFlow Version: 2.12.0\n"
          ]
        }
      ],
      "source": [
        "import tensorflow as tf\n",
        "print('TensorFlow Version:',tf.__version__)"
      ]
    },
    {
      "cell_type": "code",
      "source": [
        "mninst = tf.keras.datasets.mnist\n",
        "(x_train,y_train),(x_test, y_test) = mninst.load_data()\n",
        "x_train,x_test = x_train/255.0, x_test /255.0"
      ],
      "metadata": {
        "id": "0gbUlEFSLuZH"
      },
      "execution_count": 13,
      "outputs": []
    },
    {
      "cell_type": "code",
      "source": [
        "model = tf.keras.models.Sequential([\n",
        "    tf.keras.layers.Flatten(input_shape=(28,28)),\n",
        "    tf.keras.layers.Dense(124,activation=\"relu\"),\n",
        "    tf.keras.layers.Dropout(0.2),\n",
        "    tf.keras.layers.Dense(10)\n",
        "])"
      ],
      "metadata": {
        "id": "uKAGjazyNC_L"
      },
      "execution_count": 14,
      "outputs": []
    },
    {
      "cell_type": "code",
      "source": [
        "x_train.shape"
      ],
      "metadata": {
        "colab": {
          "base_uri": "https://localhost:8080/"
        },
        "id": "P4McZv_nNlyr",
        "outputId": "1a0e6cf3-61f1-4a33-83ea-256a87620dd1"
      },
      "execution_count": 15,
      "outputs": [
        {
          "output_type": "execute_result",
          "data": {
            "text/plain": [
              "(60000, 28, 28)"
            ]
          },
          "metadata": {},
          "execution_count": 15
        }
      ]
    },
    {
      "cell_type": "code",
      "source": [
        "predictions = model(x_train[:1]).numpy()\n",
        "predictions"
      ],
      "metadata": {
        "colab": {
          "base_uri": "https://localhost:8080/"
        },
        "id": "-NG4keOBN9j_",
        "outputId": "558f4a09-436c-480d-ae61-acf3ea17921d"
      },
      "execution_count": 16,
      "outputs": [
        {
          "output_type": "execute_result",
          "data": {
            "text/plain": [
              "array([[ 0.23617053,  0.24782977,  1.0113324 , -0.21929699, -0.23053326,\n",
              "        -0.29142544, -0.08256541, -0.26932216,  0.530653  ,  0.222052  ]],\n",
              "      dtype=float32)"
            ]
          },
          "metadata": {},
          "execution_count": 16
        }
      ]
    },
    {
      "cell_type": "code",
      "source": [
        "loss_fn = tf.keras.losses.SparseCategoricalCrossentropy(from_logits=True)"
      ],
      "metadata": {
        "id": "asifjM33OMdy"
      },
      "execution_count": 17,
      "outputs": []
    },
    {
      "cell_type": "code",
      "source": [
        "model.compile(optimizer='adam',loss=loss_fn,metrics=['accuracy'])"
      ],
      "metadata": {
        "id": "hYiPWMlnOYeq"
      },
      "execution_count": 18,
      "outputs": []
    },
    {
      "cell_type": "code",
      "source": [
        "model.fit(x_train,y_train,epochs=5)"
      ],
      "metadata": {
        "colab": {
          "base_uri": "https://localhost:8080/"
        },
        "id": "0kpG4P5BOmiX",
        "outputId": "6df5f3d7-09ef-4e74-f38f-ec27288abb1e"
      },
      "execution_count": 19,
      "outputs": [
        {
          "output_type": "stream",
          "name": "stdout",
          "text": [
            "Epoch 1/5\n",
            "1875/1875 [==============================] - 7s 3ms/step - loss: 0.2971 - accuracy: 0.9143\n",
            "Epoch 2/5\n",
            "1875/1875 [==============================] - 9s 5ms/step - loss: 0.1462 - accuracy: 0.9567\n",
            "Epoch 3/5\n",
            "1875/1875 [==============================] - 7s 4ms/step - loss: 0.1101 - accuracy: 0.9664\n",
            "Epoch 4/5\n",
            "1875/1875 [==============================] - 7s 4ms/step - loss: 0.0902 - accuracy: 0.9726\n",
            "Epoch 5/5\n",
            "1875/1875 [==============================] - 6s 3ms/step - loss: 0.0783 - accuracy: 0.9754\n"
          ]
        },
        {
          "output_type": "execute_result",
          "data": {
            "text/plain": [
              "<keras.callbacks.History at 0x7f9abcf19bd0>"
            ]
          },
          "metadata": {},
          "execution_count": 19
        }
      ]
    },
    {
      "cell_type": "code",
      "source": [
        "model.evaluate(x_test,y_test,verbose=2)"
      ],
      "metadata": {
        "colab": {
          "base_uri": "https://localhost:8080/"
        },
        "id": "5OrbwxLyOs5g",
        "outputId": "28d29e2c-d597-4860-9a80-9877fccaa087"
      },
      "execution_count": 20,
      "outputs": [
        {
          "output_type": "stream",
          "name": "stdout",
          "text": [
            "313/313 - 1s - loss: 0.0777 - accuracy: 0.9772 - 1s/epoch - 4ms/step\n"
          ]
        },
        {
          "output_type": "execute_result",
          "data": {
            "text/plain": [
              "[0.07770956307649612, 0.9771999716758728]"
            ]
          },
          "metadata": {},
          "execution_count": 20
        }
      ]
    },
    {
      "cell_type": "code",
      "source": [
        "probality_model = tf.keras.Sequential([model,tf.keras.layers.Softmax()])"
      ],
      "metadata": {
        "id": "1Njfn2b2PT4-"
      },
      "execution_count": 21,
      "outputs": []
    },
    {
      "cell_type": "code",
      "source": [
        "probality_model(x_test[:5])"
      ],
      "metadata": {
        "colab": {
          "base_uri": "https://localhost:8080/"
        },
        "id": "VqaVIReuPiNR",
        "outputId": "8b533bdb-9650-4efe-8646-f81f64957ba3"
      },
      "execution_count": 22,
      "outputs": [
        {
          "output_type": "execute_result",
          "data": {
            "text/plain": [
              "<tf.Tensor: shape=(5, 10), dtype=float32, numpy=\n",
              "array([[5.9659385e-08, 1.0952160e-09, 9.2598663e-07, 2.9556966e-05,\n",
              "        7.6226880e-10, 3.4412160e-08, 5.0953572e-13, 9.9996424e-01,\n",
              "        8.1522660e-07, 4.4150243e-06],\n",
              "       [4.4574031e-07, 6.6574003e-06, 9.9994099e-01, 1.9690209e-05,\n",
              "        1.2840861e-16, 2.8260900e-05, 1.0285622e-08, 1.8491697e-15,\n",
              "        3.9361794e-06, 2.5061268e-13],\n",
              "       [6.0157339e-07, 9.9785918e-01, 4.4697896e-04, 3.5634839e-05,\n",
              "        9.0919551e-05, 5.5993187e-05, 5.9874827e-05, 1.1792178e-03,\n",
              "        2.6915435e-04, 2.4285639e-06],\n",
              "       [9.9993455e-01, 5.3154120e-10, 3.4131692e-06, 2.1118149e-09,\n",
              "        3.4095679e-06, 5.7264035e-08, 2.2596116e-05, 2.5484531e-05,\n",
              "        2.3007154e-09, 1.0461743e-05],\n",
              "       [1.7051331e-06, 3.8004288e-08, 7.2516859e-06, 3.7886119e-07,\n",
              "        9.8781502e-01, 7.7432986e-08, 5.9663859e-07, 6.5486260e-05,\n",
              "        1.5720389e-07, 1.2109375e-02]], dtype=float32)>"
            ]
          },
          "metadata": {},
          "execution_count": 22
        }
      ]
    },
    {
      "cell_type": "code",
      "source": [],
      "metadata": {
        "id": "Lv4OdYb_PmXk"
      },
      "execution_count": null,
      "outputs": []
    }
  ]
}